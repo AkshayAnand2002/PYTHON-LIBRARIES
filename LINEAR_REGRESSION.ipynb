{
 "cells": [
  {
   "cell_type": "code",
   "execution_count": 1,
   "id": "216f7afd",
   "metadata": {},
   "outputs": [],
   "source": [
    "import numpy as np\n",
    "import pandas as pd\n",
    "import matplotlib.pyplot as plt"
   ]
  },
  {
   "cell_type": "code",
   "execution_count": 2,
   "id": "fcdbc8df",
   "metadata": {},
   "outputs": [
    {
     "name": "stdout",
     "output_type": "stream",
     "text": [
      "     9.1\n",
      "0    8.0\n",
      "1    9.1\n",
      "2    8.4\n",
      "3    6.9\n",
      "4    7.7\n",
      "..   ...\n",
      "94   7.8\n",
      "95  10.2\n",
      "96   6.1\n",
      "97   7.3\n",
      "98   7.3\n",
      "\n",
      "[99 rows x 1 columns]\n"
     ]
    }
   ],
   "source": [
    "dfx=pd.read_csv('C:/linearX.csv')\n",
    "print(dfx)"
   ]
  },
  {
   "cell_type": "code",
   "execution_count": 3,
   "id": "05232829",
   "metadata": {},
   "outputs": [
    {
     "name": "stdout",
     "output_type": "stream",
     "text": [
      "    0.99523\n",
      "0   0.99007\n",
      "1   0.99769\n",
      "2   0.99386\n",
      "3   0.99508\n",
      "4   0.99630\n",
      "..      ...\n",
      "94  0.99620\n",
      "95  0.99760\n",
      "96  0.99464\n",
      "97  0.99830\n",
      "98  0.99670\n",
      "\n",
      "[99 rows x 1 columns]\n"
     ]
    }
   ],
   "source": [
    "dfy=pd.read_csv('C:/linearY.csv')\n",
    "print(dfy)"
   ]
  },
  {
   "cell_type": "code",
   "execution_count": 4,
   "id": "dfc67cb4",
   "metadata": {},
   "outputs": [
    {
     "name": "stdout",
     "output_type": "stream",
     "text": [
      "(99, 1)\n",
      "(99, 1)\n"
     ]
    }
   ],
   "source": [
    "print(dfx.shape)\n",
    "print(dfy.shape)"
   ]
  },
  {
   "cell_type": "code",
   "execution_count": 5,
   "id": "1665a5d4",
   "metadata": {},
   "outputs": [
    {
     "name": "stdout",
     "output_type": "stream",
     "text": [
      "(99,) (99,)\n",
      "[ 8.   9.1  8.4  6.9  7.7 15.6  7.3  7.   7.2 10.1 11.5  7.1 10.   8.9\n",
      "  7.9  5.6  6.3  6.7 10.4  8.5  7.4  6.3  5.4  8.9  9.4  7.5 11.9  7.8\n",
      "  7.4 10.8 10.2  6.2  7.7 13.7  8.   6.7  6.7  7.   8.3  7.4  9.9  6.1\n",
      "  7.   5.4 10.7  7.6  8.9  9.2  6.6  7.2  8.   7.8  7.9  7.   7.   7.6\n",
      "  9.1  9.   7.9  6.6 11.9  6.5  7.1  8.8  7.5  7.7  6.  10.6  6.6  8.2\n",
      "  7.9  7.1  5.6  6.4  7.5  9.8  7.  10.5  7.1  6.2  6.5  7.7  7.2  9.3\n",
      "  8.5  7.7  6.8  7.8  8.7  9.6  7.2  9.3  8.1  6.6  7.8 10.2  6.1  7.3\n",
      "  7.3]\n",
      "[0.99007 0.99769 0.99386 0.99508 0.9963  1.0032  0.99768 0.99584 0.99609\n",
      " 0.99774 1.0003  0.99694 0.99965 0.99549 0.99364 0.99378 0.99379 0.99524\n",
      " 0.9988  0.99733 0.9966  0.9955  0.99471 0.99354 0.99786 0.9965  0.9988\n",
      " 0.9964  0.99713 0.9985  0.99565 0.99578 0.9976  1.0014  0.99685 0.99648\n",
      " 0.99472 0.99914 0.99408 0.9974  1.0002  0.99402 0.9966  0.99402 1.0029\n",
      " 0.99718 0.9986  0.9952  0.9952  0.9972  0.9976  0.9968  0.9978  0.9951\n",
      " 0.99629 0.99656 0.999   0.99836 0.99396 0.99387 1.0004  0.9972  0.9972\n",
      " 0.99546 0.9978  0.99596 0.99572 0.9992  0.99544 0.99747 0.99668 0.9962\n",
      " 0.99346 0.99514 0.99476 1.001   0.9961  0.99598 0.99608 0.9966  0.99732\n",
      " 0.9962  0.99546 0.99738 0.99456 0.9966  0.99553 0.9984  0.9952  0.997\n",
      " 0.99586 0.9984  0.99542 0.99655 0.9962  0.9976  0.99464 0.9983  0.9967 ]\n"
     ]
    }
   ],
   "source": [
    "#converting the dataset into linear numpy array.\n",
    "dfx=dfx.values\n",
    "dfy=dfy.values\n",
    "x=dfx.reshape((-1,))\n",
    "y=dfy.reshape((-1,))\n",
    "print(x.shape,y.shape)\n",
    "print(x)\n",
    "print(y)"
   ]
  },
  {
   "cell_type": "code",
   "execution_count": 6,
   "id": "5510272f",
   "metadata": {},
   "outputs": [
    {
     "data": {
      "image/png": "[encoded data removed]",
      "text/plain": [
       "<Figure size 432x288 with 1 Axes>"
      ]
     },
     "metadata": {
      "needs_background": "light"
     },
     "output_type": "display_data"
    }
   ],
   "source": [
    "#plotting\n",
    "plt.scatter(x,y)\n",
    "plt.show()"
   ]
  },
  {
   "cell_type": "code",
   "execution_count": 7,
   "id": "cc0aaf8a",
   "metadata": {},
   "outputs": [
    {
     "data": {
      "image/png": "[encoded data removed]",
      "text/plain": [
       "<Figure size 432x288 with 1 Axes>"
      ]
     },
     "metadata": {
      "needs_background": "light"
     },
     "output_type": "display_data"
    }
   ],
   "source": [
    "#Normalization-> Shift the dataset to origin\n",
    "#Normalizing values of x only as y is already normalized.\n",
    "x=(x-x.mean())/x.std()\n",
    "y=y\n",
    "plt.scatter(x,y)\n",
    "plt.show()"
   ]
  },
  {
   "cell_type": "code",
   "execution_count": 8,
   "id": "cc63995b",
   "metadata": {},
   "outputs": [],
   "source": [
    "#Gradient Descent Algorithm -> \n",
    "#START WITH A RANDOM THETA\n",
    "#REPEAT UNTIL CONVERGE\n",
    "#UPDATE THETA ACCORDING TO THE RULE."
   ]
  },
  {
   "cell_type": "code",
   "execution_count": 9,
   "id": "ae0c8219",
   "metadata": {},
   "outputs": [],
   "source": [
    "def hypothesis(x,theta):\n",
    "    return theta[0] + theta[1]*x"
   ]
  },
  {
   "cell_type": "code",
   "execution_count": 10,
   "id": "0ad0100e",
   "metadata": {},
   "outputs": [],
   "source": [
    "def error (x,y,theta):\n",
    "    error=0\n",
    "    for i in range(x.shape[0]):\n",
    "        hx= hypothesis(x[i],theta)\n",
    "        error +=(hx-y[i])**2\n",
    "    return error"
   ]
  },
  {
   "cell_type": "code",
   "execution_count": 11,
   "id": "b2125e7a",
   "metadata": {},
   "outputs": [],
   "source": [
    "def gradient(x,y,theta):\n",
    "    grad=np.zeros((2,))\n",
    "    for i in range (x.shape[0]):\n",
    "        hx=hypothesis(x[i],theta)\n",
    "        grad[0] += (hx-y[i])\n",
    "        grad[1] += (hx-y[i])*x[i]       \n",
    "    return grad"
   ]
  },
  {
   "cell_type": "code",
   "execution_count": 12,
   "id": "b4d4c5da",
   "metadata": {},
   "outputs": [],
   "source": [
    "def gradientdescent(x,y,learningrate=0.001):\n",
    "    theta=np.array([-2.0,0.0])\n",
    "    max_iteration=100\n",
    "    itr=0\n",
    "    \n",
    "    error_list=[]\n",
    "    theta_list=[]\n",
    "    while(itr<max_iteration):\n",
    "        grad=gradient(x,y,theta)\n",
    "        err=error(x,y,theta)\n",
    "        error_list.append(err)\n",
    "        theta_list.append(theta)\n",
    "        theta[0] -= learningrate*grad[0]\n",
    "        theta[1] -= learningrate*grad[1]\n",
    "        itr +=1\n",
    "    return theta,error_list,theta_list"
   ]
  },
  {
   "cell_type": "code",
   "execution_count": 13,
   "id": "894b6b31",
   "metadata": {},
   "outputs": [
    {
     "data": {
      "image/png": "[encoded data removed]",
      "text/plain": [
       "<Figure size 432x288 with 1 Axes>"
      ]
     },
     "metadata": {
      "needs_background": "light"
     },
     "output_type": "display_data"
    }
   ],
   "source": [
    "    final_theta, error_list, theta_list=gradientdescent(x,y,0.001)\n",
    "    plt.plot(error_list)\n",
    "    plt.show()"
   ]
  },
  {
   "cell_type": "code",
   "execution_count": 14,
   "id": "d5d5c0e3",
   "metadata": {},
   "outputs": [
    {
     "name": "stdout",
     "output_type": "stream",
     "text": [
      "[-2.         -1.11111111 -0.22222222  0.66666667  1.55555556  2.44444444\n",
      "  3.33333333  4.22222222  5.11111111  6.        ]\n"
     ]
    }
   ],
   "source": [
    "xtest=np.linspace(-2,6,10) #testing data\n",
    "print(xtest)"
   ]
  },
  {
   "cell_type": "code",
   "execution_count": 16,
   "id": "ded9a147",
   "metadata": {},
   "outputs": [
    {
     "data": {
      "image/png": "[encoded data removed]",
      "text/plain": [
       "<Figure size 432x288 with 1 Axes>"
      ]
     },
     "metadata": {
      "needs_background": "light"
     },
     "output_type": "display_data"
    }
   ],
   "source": [
    "plt.scatter(x,y,label='Training Data')\n",
    "plt.plot(xtest,hypothesis(xtest,final_theta),color='green',label='prediction')\n",
    "plt.legend()\n",
    "plt.show()"
   ]
  },
  {
   "cell_type": "code",
   "execution_count": 17,
   "id": "bab16b38",
   "metadata": {},
   "outputs": [],
   "source": [
    "##################END################"
   ]
  }
 ],
 "metadata": {
  "kernelspec": {
   "display_name": "Python 3 (ipykernel)",
   "language": "python",
   "name": "python3"
  },
  "language_info": {
   "codemirror_mode": {
    "name": "ipython",
    "version": 3
   },
   "file_extension": ".py",
   "mimetype": "text/x-python",
   "name": "python",
   "nbconvert_exporter": "python",
   "pygments_lexer": "ipython3",
   "version": "3.9.7"
  }
 },
 "nbformat": 4,
 "nbformat_minor": 5
}
